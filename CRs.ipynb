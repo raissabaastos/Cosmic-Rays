{
 "cells": [
  {
   "cell_type": "code",
   "execution_count": null,
   "id": "2449c9a6",
   "metadata": {},
   "outputs": [
    {
     "name": "stdout",
     "output_type": "stream",
     "text": [
      "Produto vetorial A x B =  [-3.  6. -3.]\n",
      "Módulo do vetor C =  7.3484692283495345\n"
     ]
    }
   ],
   "source": [
    "#  definindo funções de matemática \n",
    "\n",
    "import numpy as np\n",
    "\n",
    "def crossprod(A, B):\n",
    "    C[0]=A[1]*B[2]-A[2]*B[1]\n",
    "    C[1]=A[2]*B[0]-A[0]*B[2]\n",
    "    C[2]=A[0]*B[1]-A[1]*B[0]\n",
    "    return C \n",
    "\n",
    "def mod(F):\n",
    "    mod=np.sqrt(F[0]*F[0]+F[1]*F[1]+F[2]*F[2])\t\n",
    "    return mod\n",
    "\n",
    "# teste\n",
    "A=np.array([1.0,2.0,3.0])\n",
    "B=np.array([4.0,5.0,6.0])\n",
    "C=np.zeros(3)\n",
    "C=crossprod(A,B)\n",
    "print(\"Produto vetorial A x B = \",C)\n",
    "print(\"Módulo do vetor C = \",mod(C))"
   ]
  },
  {
   "cell_type": "code",
   "execution_count": null,
   "id": "f1e02acf",
   "metadata": {},
   "outputs": [
    {
     "name": "stdout",
     "output_type": "stream",
     "text": [
      "Força de Lorentz F =  [15.  0.  0.]\n"
     ]
    }
   ],
   "source": [
    "# definindo funções de física\n",
    "def FLorentz(q, v, B):\n",
    "    F = q*crossprod(v, B)\n",
    "    return F    \n",
    "\n",
    "def Velocity(v0, a, t):\n",
    "    for i in range(3): \n",
    "        v[i]=v0[i]+a[i]*t\n",
    "\n",
    "        modv=mod(v)\n",
    "        modv0=mod(v0)\n",
    "        \n",
    "        if modv != 0:\n",
    "            vers[i]=v[i]/modv\n",
    "\t\t    v[i]=modv0*vers[i]\n",
    "    return v\n",
    "\n",
    "# teste\n",
    "q=15.0\n",
    "v=np.array([0.0,1.0,0.0])\n",
    "B=np.array([0.0,0.0,1.0])\n",
    "F=FLorentz(q, v, B)\n",
    "print(\"Força de Lorentz F = \",F)\n"
   ]
  }
 ],
 "metadata": {
  "kernelspec": {
   "display_name": "Python 3",
   "language": "python",
   "name": "python3"
  },
  "language_info": {
   "codemirror_mode": {
    "name": "ipython",
    "version": 3
   },
   "file_extension": ".py",
   "mimetype": "text/x-python",
   "name": "python",
   "nbconvert_exporter": "python",
   "pygments_lexer": "ipython3",
   "version": "3.13.6"
  }
 },
 "nbformat": 4,
 "nbformat_minor": 5
}
